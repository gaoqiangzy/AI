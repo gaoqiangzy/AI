{
 "cells": [
  {
   "cell_type": "code",
   "execution_count": 6,
   "metadata": {},
   "outputs": [],
   "source": [
    "import numpy as np\n",
    "import random\n"
   ]
  },
  {
   "cell_type": "markdown",
   "metadata": {},
   "source": [
    "## 快捷键"
   ]
  },
  {
   "cell_type": "code",
   "execution_count": 125,
   "metadata": {},
   "outputs": [],
   "source": [
    "# 快捷键\n",
    "# 运行\n",
    "#     shift+enter 执行当前代码块,并跳转到下一个代码块\n",
    "#     ctrl+enter  执行当前代码块\n",
    "# 命令模式 (左侧光标为蓝色)\n",
    "#     a 在当前代码块上方添加一个代码块\n",
    "#     x 删除当前代码块\n",
    "#     b 在当前代码块下方添加一个代码块\n",
    "#     数字1-6 代表 1-6级标题 运行即变成标题\n",
    "# 输入模式 (左侧光标为绿色)\n",
    "#     tab  代码提示"
   ]
  },
  {
   "cell_type": "markdown",
   "metadata": {},
   "source": [
    "## ndarray"
   ]
  },
  {
   "cell_type": "code",
   "execution_count": 140,
   "metadata": {},
   "outputs": [],
   "source": [
    "# 特点\n",
    "# 1.每个数组的数据类型是相同的,要么都是整数,要么都是其他类型(float,str,)\n",
    "# 2.大小固定,创建好了之后不能新增或者删除某部分"
   ]
  },
  {
   "cell_type": "code",
   "execution_count": 146,
   "metadata": {
    "scrolled": true
   },
   "outputs": [
    {
     "name": "stdout",
     "output_type": "stream",
     "text": [
      "[[ 1 81 25  9]\n",
      " [ 4  4  4  4]\n",
      " [ 9  9  9  9]]\n"
     ]
    }
   ],
   "source": [
    "# python写法\n",
    "# list1=[1,2,3,4,5]\n",
    "# print([x**2 for x in list1])\n",
    "# list2=[[1,9,5,3],[2,2,2,2],[3,3,3,3]]\n",
    "# print([y**2 for x in list2 for y in x])\n",
    "\n",
    "# ndarray\n",
    "# arr1=np.array(list2)\n",
    "# print(arr1**2)"
   ]
  },
  {
   "cell_type": "markdown",
   "metadata": {},
   "source": [
    "## 数组ndarray创建"
   ]
  },
  {
   "cell_type": "code",
   "execution_count": 200,
   "metadata": {
    "scrolled": true
   },
   "outputs": [
    {
     "data": {
      "image/png": "[encoded data removed]",
      "text/plain": [
       "<Figure size 432x288 with 1 Axes>"
      ]
     },
     "metadata": {},
     "output_type": "display_data"
    }
   ],
   "source": [
    "# np.array() 把一个python序列转换为 numpy数组\n",
    "# list1=[1,2,3]\n",
    "# print(type(list1))\n",
    "# arr1=np.array(list1)\n",
    "# print(type(arr1))\n",
    "# list2=[[1,1,1],[2,2,2],[3,3,3]]\n",
    "# arr2=np.array(list2) # 行列数相同才可以转成 完全的数组\n",
    "# print(arr2)\n",
    "# 使用元组也可以创建\n",
    "# 通过字典创建,是把整个字典作为一个值\n",
    "# dict1={\"Chinese\":98,\"Math\":97,\"English\":90}\n",
    "# arr3=np.array(dict1)\n",
    "# print(arr3)\n",
    "# print(type(arr3))\n",
    "# print(arr3-10)\n",
    "\n",
    "\n",
    "# np.ones() 全一数组   np.zeros()  全零数组\n",
    "# print(np.ones(10)) # 生成一个一维10个元素的全1数组\n",
    "# print(np.zeros([10,2])) # 生成一个10行两列的全0 数组\n",
    "# np.zeros([30,3])\n",
    "\n",
    "# np.empty() 创建指定形状的空数组,不考虑值,速度最快\n",
    "# np.empty([20,4])\n",
    "# np.empty([30,3])\n",
    "\n",
    "# arange() 生成一组数值序列\n",
    "# print(np.arange(0,100,3))\n",
    "# for i in range(0,100,0.5):\n",
    "#     print(i)\n",
    "# print(np.arange(0,100,0.5))\n",
    "\n",
    "# linspace(start,end,num) 生成一组等差数列\n",
    "# print(np.linspace(0,100,9))\n",
    "\n",
    "# logspace(min,max,num,base=10) 生成一组等比数列\n",
    "# np.logspace(1,3,3,base=5) #array([  5.,  25., 125.])\n",
    "\n",
    "# random 生成一组随机数组\n",
    "# np.random.random(10) # 生成10个随机数\n",
    "# np.random.random([10,5])\n",
    "# np.random.randint(0,2,10) # 生成从 0到2(不包含2) 的10个随机数\n",
    "# print(random.randint(0,2)) # python中的随机整数是 包含最后的,numpy中的不包含\n",
    "\n",
    "# randn() 生成满足正态分布的数组\n",
    "# x=np.random.randn(1000)\n",
    "# import matplotlib.pyplot as plt\n",
    "# plt.hist(x,bins=50)\n",
    "# plt.show()\n",
    "\n",
    "\n",
    "\n",
    "\n",
    "\n"
   ]
  },
  {
   "cell_type": "markdown",
   "metadata": {},
   "source": [
    "## ndarray对象属性"
   ]
  },
  {
   "cell_type": "code",
   "execution_count": 242,
   "metadata": {},
   "outputs": [
    {
     "data": {
      "text/plain": [
       "2"
      ]
     },
     "execution_count": 242,
     "metadata": {},
     "output_type": "execute_result"
    }
   ],
   "source": [
    "# ndim  维度 ,几维\n",
    "# arr1.ndim\n",
    "arr2=np.random.randint(0,101,[10,5])\n",
    "arr2.ndim\n",
    "\n",
    "# shape  ndarray的形状,返回元组\n",
    "# arr2.shape\n",
    "# arr1.shape\n",
    "# 修改形状\n",
    "# arr5=np.arange(100)\n",
    "# 直接修改shape属性\n",
    "# arr5.shape=(10,10)\n",
    "# arr5\n",
    "# 通过reshape() 修改得到一个新的数组\n",
    "# arr6=arr5.reshape(10,10)\n",
    "# arr6=arr5.reshape(20,-1) # 如果设定为-1 则是自动计算该维度的数量\n",
    "# arr6\n",
    "\n",
    "# size 总个数\n",
    "# arr2.size # 50\n",
    "\n",
    "# dtype 数据类型\n",
    "# arr2.dtype\n",
    "# arr1.dtype\n",
    "# arr3\n",
    "\n",
    "# 在创建的时候可以通过dtype=\"\" 设置数据类型\n",
    "# scores=[90,98,150]\n",
    "# arr4=np.array(scores,dtype=\"float16\")\n",
    "# print(arr4)\n",
    "# arr4.dtype\n",
    "# arr5=np.array(scores) # 开始没有设置数据类型\n",
    "# arr6=arr5.astype(\"float\") # astype() 设置数据类型赋给一个新的变量\n",
    "# arr6\n",
    "\n",
    "\n",
    "# np.array(['hello','world','tomorrow'],dtype=\"S\")\n",
    "\n",
    "\n",
    "# itemsize 数组中每个元素的字节大小\n",
    "# arr6.itemsize\n",
    "\n"
   ]
  },
  {
   "cell_type": "markdown",
   "metadata": {},
   "source": [
    "## 基本操作"
   ]
  },
  {
   "cell_type": "code",
   "execution_count": 265,
   "metadata": {
    "scrolled": true
   },
   "outputs": [
    {
     "name": "stdout",
     "output_type": "stream",
     "text": [
      "[[16553 15849 13995 10870]\n",
      " [14986 15139 16739  6816]\n",
      " [19780  6863 26604 26616]\n",
      " [13928 25141 20137  4750]\n",
      " [ 7614 17435  6483 26527]\n",
      " [22083  8906 16902 27143]\n",
      " [19629 11184  8430 12898]\n",
      " [13457 22765  6029  8354]\n",
      " [22291 18642 17545 20829]\n",
      " [19041 10101 22168 20087]]\n",
      "[[1134 1113]\n",
      " [1961 1720]\n",
      " [1335 1079]\n",
      " [1104 1415]\n",
      " [1412 1145]]\n"
     ]
    },
    {
     "ename": "ValueError",
     "evalue": "operands could not be broadcast together with shapes (10,4) (5,2) ",
     "output_type": "error",
     "traceback": [
      "\u001b[1;31m---------------------------------------------------------------------------\u001b[0m",
      "\u001b[1;31mValueError\u001b[0m                                Traceback (most recent call last)",
      "\u001b[1;32m<ipython-input-265-4c3ca6fc31f8>\u001b[0m in \u001b[0;36m<module>\u001b[1;34m()\u001b[0m\n\u001b[0;32m     32\u001b[0m \u001b[0mextra\u001b[0m\u001b[1;33m=\u001b[0m\u001b[0mnp\u001b[0m\u001b[1;33m.\u001b[0m\u001b[0mrandom\u001b[0m\u001b[1;33m.\u001b[0m\u001b[0mrandint\u001b[0m\u001b[1;33m(\u001b[0m\u001b[1;36m1000\u001b[0m\u001b[1;33m,\u001b[0m\u001b[1;36m2000\u001b[0m\u001b[1;33m,\u001b[0m\u001b[1;33m[\u001b[0m\u001b[1;36m5\u001b[0m\u001b[1;33m,\u001b[0m\u001b[1;36m2\u001b[0m\u001b[1;33m]\u001b[0m\u001b[1;33m)\u001b[0m\u001b[1;33m\u001b[0m\u001b[0m\n\u001b[0;32m     33\u001b[0m \u001b[0mprint\u001b[0m\u001b[1;33m(\u001b[0m\u001b[0mextra\u001b[0m\u001b[1;33m)\u001b[0m\u001b[1;33m\u001b[0m\u001b[0m\n\u001b[1;32m---> 34\u001b[1;33m \u001b[0msalary\u001b[0m\u001b[1;33m+\u001b[0m\u001b[0mextra\u001b[0m\u001b[1;33m\u001b[0m\u001b[0m\n\u001b[0m",
      "\u001b[1;31mValueError\u001b[0m: operands could not be broadcast together with shapes (10,4) (5,2) "
     ]
    }
   ],
   "source": [
    "# 数组运算\n",
    "# 矢量化运算\n",
    "# arr4+100\n",
    "# arr5%2\n",
    "# res=arr5%2==0  # 判断是否是偶数\n",
    "# res.dtype # bool\n",
    "# res\n",
    "# arr5>10\n",
    "\n",
    "# 元素级操作,如果两个数组的形状相同,那么运算的时候是对应位置的运算\n",
    "# arr1=np.random.randint(0,101,[5,3])\n",
    "# print(arr1)\n",
    "# arr2=np.random.randint(0,101,[5,3])\n",
    "# print(arr2)\n",
    "# arr1+arr2\n",
    "\n",
    "\n",
    "# 数组广播\n",
    "# 触发数组广播的条件是, 两个数组的shape值 要么相同,要么其中一个为1\n",
    "\n",
    "# 2019年份10个人每个季度的薪水\n",
    "# salary=np.random.randint(4000,28000,[10,4])\n",
    "# print(salary)\n",
    "# 想让每个季度增加不同的值\n",
    "# extra=np.array([[1000,1200,3000,200]])\n",
    "# print(extra)\n",
    "# salary+extra # 使用一个 10,4 数组和一个 1行4列的数组运算,发现是 每一列加上了另外一个 的一列, 这就叫数组广播\n",
    "# 如果想让每个人加上不同的值\n",
    "# extra=np.arange(10,110,10).reshape(10,1)\n",
    "# print(extra)\n",
    "# salary+extra # 10,4   10,1 也能触发数组广播\n",
    "\n",
    "# extra=np.random.randint(1000,2000,[5,2])\n",
    "# print(extra)\n",
    "# salary+extra\n",
    "\n"
   ]
  },
  {
   "cell_type": "markdown",
   "metadata": {},
   "source": [
    "## 矩阵乘积"
   ]
  },
  {
   "cell_type": "code",
   "execution_count": 267,
   "metadata": {},
   "outputs": [],
   "source": [
    "# np.dot() 矩阵乘积 \n",
    "# nums=np.array([\n",
    "#     [10,20,30],\n",
    "#     [100,200,300],\n",
    "#     [80,90,100]\n",
    "# ])\n",
    "# infos=np.array([\n",
    "#     [1,0.2],\n",
    "#     [0.5,3],\n",
    "#     [2,2]\n",
    "# ])\n",
    "# result=np.dot(nums,infos)\n"
   ]
  },
  {
   "cell_type": "markdown",
   "metadata": {},
   "source": [
    "## 数组的索引"
   ]
  },
  {
   "cell_type": "code",
   "execution_count": 299,
   "metadata": {
    "scrolled": true
   },
   "outputs": [
    {
     "name": "stdout",
     "output_type": "stream",
     "text": [
      "[[999   2   3   4   5]\n",
      " [  6   7   8   9  10]\n",
      " [ 11  12  13  14  15]\n",
      " [ 16  17  18  19  20]\n",
      " [ 21  22  23  24  25]\n",
      " [ 26  27  28  29  30]\n",
      " [ 31  32  33  34  35]\n",
      " [ 36  37  38  39  40]]\n"
     ]
    },
    {
     "data": {
      "text/plain": [
       "array([[ 6,  9],\n",
       "       [11, 14]])"
      ]
     },
     "execution_count": 299,
     "metadata": {},
     "output_type": "execute_result"
    }
   ],
   "source": [
    "#数组索引\n",
    "# print(result)\n",
    "# 使用python索引列表的形式\n",
    "# 查看一部门的信息\n",
    "# result[0]\n",
    "# 查看一部门的总体积\n",
    "# result[0][1]\n",
    "# 使用numpy 索引数组的形式\n",
    "# 查看二部门的利润\n",
    "# result[1][0]\n",
    "# result[1,0]\n",
    "\n",
    "# 切片操作\n",
    "# arr8=np.arange(1,41).reshape(8,5)\n",
    "print(arr8)\n",
    "# arr8[0:5][:,0:3] # 前5行的 前3列\n",
    "# arr8[::2] #每隔一行切一次\n",
    "# split_arr=arr8[::2,::2] # 隔行切一次,隔列切一次\n",
    "# 切片切出来的部分知识原数组的一个视图,如果修改了这部分,原来的也会修改\n",
    "# split_arr[0,0]=999\n",
    "# print(split_arr)\n",
    "# print(arr8)\n",
    "\n",
    "\n",
    "\n",
    "# 花式索引 \n",
    "\n",
    "# 想要数组的 1,3,4行\n",
    "# arr8[0]\n",
    "# arr8[[0,2,3]] ## 使用一个数组或者列表作为 索引依据\n",
    "# 想要数组的 1,3,4列\n",
    "# arr8[:,[0,2,3]] # 取所有行的 1,3,4列\n",
    "\n",
    "# 想要数组 2,3 行的 1,4列\n",
    "# 6    9\n",
    "# 11  14\n",
    "# arr8[[1,2],[0,3]] # 取到了 6,14  取到的1,0    和 2,3 位置\n",
    "# 取法1 ,分成两次取值\n",
    "# arr8[[1,2]][:,[0,3]]\n",
    "# 取法2 使用索引器 np.ix_(行,列)\n",
    "# arr8[np.ix_([1,2],[0,3])]\n",
    "# 取法3, 使用 矩阵的转置\n",
    "# arr8[[1,2]].T[[0,3]].T"
   ]
  },
  {
   "cell_type": "markdown",
   "metadata": {},
   "source": [
    "## 布尔索引"
   ]
  },
  {
   "cell_type": "code",
   "execution_count": 305,
   "metadata": {
    "collapsed": true
   },
   "outputs": [
    {
     "name": "stdout",
     "output_type": "stream",
     "text": [
      "[[51 59 96 54 38]\n",
      " [80 27 16 63 36]\n",
      " [84 71 32 11 27]\n",
      " [31 12  0  6 22]\n",
      " [45 52  7 84 27]\n",
      " [ 7 91 30 57 12]\n",
      " [90 93 77  5 92]\n",
      " [23 46 46  3 87]\n",
      " [91 38 81 11 82]\n",
      " [44 76 99 22 21]]\n",
      "[[False False  True False False]\n",
      " [ True False False  True False]\n",
      " [ True  True False False False]\n",
      " [False False False False False]\n",
      " [False False False  True False]\n",
      " [False  True False False False]\n",
      " [ True  True  True False  True]\n",
      " [False False False False  True]\n",
      " [ True False  True False  True]\n",
      " [False  True  True False False]]\n"
     ]
    },
    {
     "data": {
      "text/plain": [
       "array([96, 80, 63, 84, 71, 84, 91, 90, 93, 77, 92, 87, 91, 81, 82, 76, 99])"
      ]
     },
     "execution_count": 305,
     "metadata": {},
     "output_type": "execute_result"
    }
   ],
   "source": [
    "# 使用布尔类型的数组进行索引,会取对应位置为True的部分\n",
    "# scores=np.random.randint(0,101,[10,5])\n",
    "# print(scores)\n",
    "# print(scores>=60)\n",
    "# scores[scores>=60]"
   ]
  },
  {
   "cell_type": "code",
   "execution_count": 324,
   "metadata": {},
   "outputs": [
    {
     "data": {
      "text/plain": [
       "array([59, 59])"
      ]
     },
     "execution_count": 324,
     "metadata": {},
     "output_type": "execute_result"
    }
   ],
   "source": [
    "# 练习\n",
    "names=np.array(['tom','jerry','anne'])\n",
    "subject=np.array(['C',\"M\",\"E\"])\n",
    "scores=np.array([\n",
    "    [100,101,102],\n",
    "    [60,60,59],\n",
    "    [59,59,59]\n",
    "])\n",
    "# 获取tom的成绩\n",
    "# scores[names=='tom']\n",
    "# 获取tom的数学成绩\n",
    "# scores[names=='tom',subject==\"M\"]\n",
    "# 输出tom 和jerry的成绩\n",
    "# scores[(names=='tom') | (names=='jerry')]\n",
    "# 输出 非 tom, 非jerry的语文和数学成绩\n",
    "# scores[(names!=\"tom\") & (names!=\"jerry\"),(subject=='C') | (subject==\"M\")]"
   ]
  },
  {
   "cell_type": "markdown",
   "metadata": {},
   "source": [
    "## 数组的转置和轴对换"
   ]
  },
  {
   "cell_type": "code",
   "execution_count": 334,
   "metadata": {
    "scrolled": true
   },
   "outputs": [
    {
     "name": "stdout",
     "output_type": "stream",
     "text": [
      "[[[ 0  1  2  3]\n",
      "  [ 4  5  6  7]\n",
      "  [ 8  9 10 11]]\n",
      "\n",
      " [[12 13 14 15]\n",
      "  [16 17 18 19]\n",
      "  [20 21 22 23]]]\n"
     ]
    },
    {
     "data": {
      "text/plain": [
       "array([[[ 0,  1,  2,  3],\n",
       "        [12, 13, 14, 15]],\n",
       "\n",
       "       [[ 4,  5,  6,  7],\n",
       "        [16, 17, 18, 19]],\n",
       "\n",
       "       [[ 8,  9, 10, 11],\n",
       "        [20, 21, 22, 23]]])"
      ]
     },
     "execution_count": 334,
     "metadata": {},
     "output_type": "execute_result"
    }
   ],
   "source": [
    "# 转置 T 属性\n",
    "# arr10=np.arange(24).reshape(2,3,4)\n",
    "# arr10.T  # (4,3,2)\n",
    "\n",
    "# 轴对换  transpose(axis_num,axis_num2) 参数为轴的序号\n",
    "# arr11=np.arange(20).reshape(4,5)\n",
    "# print(arr11)\n",
    "# arr11.transpose(1,0)\n",
    "# arr11=np.arange(24).reshape(2,3,4)\n",
    "# print(arr11)\n",
    "# arr11.transpose(1,0,2)\n",
    "\n"
   ]
  },
  {
   "cell_type": "markdown",
   "metadata": {},
   "source": [
    "## 数组的拉伸与合并\n"
   ]
  },
  {
   "cell_type": "code",
   "execution_count": 350,
   "metadata": {
    "scrolled": true
   },
   "outputs": [
    {
     "name": "stdout",
     "output_type": "stream",
     "text": [
      "[[100 101 102]\n",
      " [ 60  60  59]\n",
      " [ 59  59  59]]\n",
      "[[1 2 3]\n",
      " [4 5 6]\n",
      " [7 8 9]]\n"
     ]
    },
    {
     "data": {
      "text/plain": [
       "array([[100, 101, 102,   1,   2,   3],\n",
       "       [ 60,  60,  59,   4,   5,   6],\n",
       "       [ 59,  59,  59,   7,   8,   9]])"
      ]
     },
     "execution_count": 350,
     "metadata": {},
     "output_type": "execute_result"
    }
   ],
   "source": [
    "#np.tile(arr,num)  数组拉伸\n",
    "print(scores)\n",
    "# np.tile(scores,3) # 横向拉伸三次\n",
    "# np.tile(scores,[2,2]) #列表中的0位代表纵向拉伸的次数,1位代表横向拉伸的次数\n",
    "\n",
    "# np.stack() 把两个多维数组合并到一起\n",
    "scores2=np.array([\n",
    "    [1,2,3],\n",
    "    [4,5,6],\n",
    "    [7,8,9]\n",
    "])\n",
    "print(scores2)\n",
    "# np.stack([scores,scores2],axis=0) # 把两个数组当成一个整体合并到一起,成一个三维数组\n",
    "# np.stack([scores,scores2],axis=1) # 把两个数组的每一行作为一个整体合并,\n",
    "# np.stack([scores,scores2],axis=2) #把两个数组的每一行的每一列作合并\n",
    "\n",
    "# np.vstack() 垂直堆叠  np.hstack() 水平堆叠\n",
    "# np.vstack([scores,scores2])\n",
    "# np.hstack([scores,scores2])\n",
    "\n"
   ]
  },
  {
   "cell_type": "markdown",
   "metadata": {},
   "source": [
    "# 通用函数/一元函数`"
   ]
  },
  {
   "cell_type": "code",
   "execution_count": 8,
   "metadata": {},
   "outputs": [
    {
     "name": "stderr",
     "output_type": "stream",
     "text": [
      "C:\\Users\\Administrator\\Anaconda3\\lib\\site-packages\\ipykernel_launcher.py:53: RuntimeWarning: invalid value encountered in sqrt\n"
     ]
    },
    {
     "data": {
      "text/plain": [
       "array([2.64575131, 2.23606798, 1.        , 2.82842712, 2.44948974,\n",
       "       2.82842712])"
      ]
     },
     "execution_count": 8,
     "metadata": {},
     "output_type": "execute_result"
    }
   ],
   "source": [
    "# abs()/fabs() 绝对值 fabs只能用于非（复数 complex）\n",
    "arr12=np.random.randint(-10,11,10)\n",
    "# print(arr12)\n",
    "# np.abs(arr12)\n",
    "# np.fabs(arr12)\n",
    "\n",
    "# sqrt 平方根\n",
    "# np.sqrt(arr12)\n",
    "# arr12**0.5\n",
    "\n",
    "# square() 平方\n",
    "# np.square(arr12) \n",
    "# arr12**2\n",
    "\n",
    "# arr13=np.array([1,2,4,5,1.71828183,100,25,2.71828183,0,1.111,2.00000001])\n",
    "# print(arr13)\n",
    "# exp 自然常数e的 x次方\n",
    "# np.exp(arr13)\n",
    "\n",
    "\n",
    "# log() 以e为底 arr13为真数求对数  log2()   log10()   log1p() 以e为底 arr13+1 为真数求对数\n",
    "# np.log(arr13)\n",
    "# np.log2(arr13)\n",
    "# print(np.log1p(arr13))\n",
    "# np.log(arr13+1)\n",
    "# np.log5(arr13) # numpy 没有以5为底求对数的函数,但是我们可以使用换底公式\n",
    "# np.log(arr13)/np.log(5) # 换底公式\n",
    "\n",
    "\n",
    "# np.sign() 计算元素的正负号\n",
    "# print(arr12)\n",
    "# np.sign(arr12)\n",
    "\n",
    "# ceil() 向上取整  floor() 向下取整\n",
    "# np.ceil(arr13)\n",
    "\n",
    "\n",
    "# rint() 四舍六入五成双 取整数\n",
    "# arr15=np.array([1.5,2.5,1.4,2.4,1.6,2.6])\n",
    "# np.rint(arr15)\n",
    "# 2,3,1,2,2,3\n",
    "\n",
    "\n",
    "# round() 四舍六入五成双,可以保留位数\n",
    "# arr16=np.array([1.35563,1.2350925,1.87852])\n",
    "# np.round(arr16,decimals=2) #保留两位有效数字\n",
    "\n",
    "# modf() 将小数部分和整数部分分成两个数组\n",
    "# np.modf(arr16)\n",
    "\n",
    "\n",
    "# np.isnan() 判断是否是 异常值nan值\n",
    "res=np.sqrt(arr12)\n",
    "# res[np.isnan(res)] # 得到所有的nan值\n",
    "res[~np.isnan(res)] # 得到所有的非nan值  ~ 代表取反操作\n",
    "\n",
    "\n",
    "# np.isfinite() 判断元素是否是有穷的(非nan ,非inf)\n",
    "# res[np.isfinite(res)]\n",
    "# arr18=np.array([1,2,3,np.inf,np.nan,np.inf ,3,4,5])\n",
    "# arr18\n",
    "# np.isinf(arr18)\n",
    "\n",
    "\n",
    "# cos sin tan   cosh  sinh  tanh 三角函数\n",
    "# x=np.arange(-5,6,0.2)\n",
    "# # y=np.cos(x)\n",
    "# # y1=np.sin(x)\n",
    "# # print(y)\n",
    "# # import matplotlib.pyplot as plt\n",
    "# %matplotlib tk\n",
    "# # plt.plot(x,y)\n",
    "# # plt.plot(x,y1)\n",
    "# # plt.show()\n",
    "# yh1=np.cosh(x)\n",
    "# yh2=np.sinh(x)\n",
    "# # plt.plot(x,yh1)\n",
    "# plt.plot(x,yh2)\n",
    "# plt.show()\n",
    "\n",
    "\n",
    "\n",
    "# arccos  arcsin  arctan  arccosh  arcsinh arctanh 反三角函数\n",
    "# np.arcsinh(yh2)\n"
   ]
  },
  {
   "cell_type": "markdown",
   "metadata": {},
   "source": [
    "## 二元函数"
   ]
  },
  {
   "cell_type": "code",
   "execution_count": 417,
   "metadata": {},
   "outputs": [
    {
     "name": "stdout",
     "output_type": "stream",
     "text": [
      "[7 2 9 4 5 1 7 8 7 6]\n"
     ]
    },
    {
     "data": {
      "text/plain": [
       "array([343,   8, 729,  64, 125,   1, 343, 512, 343, 216], dtype=int32)"
      ]
     },
     "execution_count": 417,
     "metadata": {},
     "output_type": "execute_result"
    }
   ],
   "source": [
    "# np.mod() 除法取余\n",
    "# x=np.random.randint(0,10,10)\n",
    "print(x)\n",
    "# print(np.mod(x,2))\n",
    "# print(x%2)\n",
    "\n",
    "# dot 矩阵乘积\n",
    "\n",
    "# np.less()\n",
    "# np.less(x,5)\n",
    "# x<5\n",
    "\n",
    "# logical_and  logical_or  logical_xor() 一真一假则为真  否则为假\n",
    "# bool1=np.array([True,False,True,True,False,False])\n",
    "# bool2=np.array([False,True,True,False,False,True])\n",
    "# np.logical_xor(bool1,bool2)\n",
    "\n",
    "# power()  幂运算\n",
    "# np.power(x,3)\n",
    "# x**3\n",
    "\n",
    "\n"
   ]
  },
  {
   "cell_type": "markdown",
   "metadata": {},
   "source": [
    "## 聚合函数"
   ]
  },
  {
   "cell_type": "code",
   "execution_count": 430,
   "metadata": {
    "scrolled": true
   },
   "outputs": [
    {
     "name": "stdout",
     "output_type": "stream",
     "text": [
      "[[16553 15849 13995 10870]\n",
      " [14986 15139 16739  6816]\n",
      " [19780  6863 26604 26616]\n",
      " [13928 25141 20137  4750]\n",
      " [ 7614 17435  6483 26527]\n",
      " [22083  8906 16902 27143]\n",
      " [19629 11184  8430 12898]\n",
      " [13457 22765  6029  8354]\n",
      " [22291 18642 17545 20829]\n",
      " [19041 10101 22168 20087]]\n"
     ]
    },
    {
     "data": {
      "text/plain": [
       "6407.563503343139"
      ]
     },
     "execution_count": 430,
     "metadata": {},
     "output_type": "execute_result"
    }
   ],
   "source": [
    "# max()  min()  mean()  sum()\n",
    "print(salary)\n",
    "\n",
    "# np.max(salary) # 使用np调用\n",
    "# salary.max() # 使用 ndarray调用\n",
    "# salary.mean() # 整个数组的平均值\n",
    "# salary.mean(axis=0) #查看每一列(季度)的平均薪资\n",
    "# salary.mean(axis=1) # 查看每个人(行)的平均薪资\n",
    "\n",
    "# 方差 var()\n",
    "# np.mean(np.square(salary-salary.mean())) # 41056870.049375\n",
    "# np.var(salary) #41056870.049375\n",
    "\n",
    "# 标准差 std()\n",
    "# np.std(salary)\n",
    "\n"
   ]
  },
  {
   "cell_type": "markdown",
   "metadata": {},
   "source": [
    "## np.where() "
   ]
  },
  {
   "cell_type": "code",
   "execution_count": 451,
   "metadata": {
    "scrolled": true
   },
   "outputs": [
    {
     "name": "stdout",
     "output_type": "stream",
     "text": [
      "[[  4  75  99 ...  36  67  94]\n",
      " [ 15  42  68 ...  64  68  25]\n",
      " [ 72  31  15 ...  42  67  39]\n",
      " ...\n",
      " [ 30  43  32 ...   5  49  17]\n",
      " [ 41  33  88 ...   0  67   9]\n",
      " [ 47  18  70 ...   5 100  28]]\n",
      "[[ 93  60  22 ...  40  19   4]\n",
      " [ 49   0  53 ...  46   4  10]\n",
      " [ 74  21   2 ...  28  42 100]\n",
      " ...\n",
      " [ 58  82  44 ...  64  74  49]\n",
      " [ 90   5  60 ...  25  10  59]\n",
      " [ 35  66  65 ...  71  48  14]]\n"
     ]
    },
    {
     "data": {
      "text/plain": [
       "array([[ 93,  75,  99, ...,  40,  67,  94],\n",
       "       [ 49,  42,  68, ...,  64,  68,  25],\n",
       "       [ 74,  31,  15, ...,  42,  67, 100],\n",
       "       ...,\n",
       "       [ 58,  82,  44, ...,  64,  74,  49],\n",
       "       [ 90,  33,  88, ...,  25,  67,  59],\n",
       "       [ 47,  66,  70, ...,  71, 100,  28]])"
      ]
     },
     "execution_count": 451,
     "metadata": {},
     "output_type": "execute_result"
    }
   ],
   "source": [
    "# np.where(condition [,True返回的值,False的时候返回的值]) 查询满足条件的位置(下标)\n",
    "# print(salary)\n",
    "# salary=salary[salary>10000]-5000 # 使用布尔索引查找\n",
    "# salary\n",
    "\n",
    "# salary=np.array([10000,8000,12000,16000])\n",
    "# print(salary)\n",
    "# salary=salary[salary>10000]-5000\n",
    "# salary\n",
    "# salary[[2,3]]=salary[[2,3]]-5000\n",
    "# salary\n",
    "# con_index=np.where(salary>10000)  # 查找满足条件的下标\n",
    "# salary[con_index]=salary[con_index]-5000\n",
    "# print(salary)\n",
    "\n",
    "\n",
    "# 两个形状相同的数组,取对应位置最大的值\n",
    "# arrx=np.random.randint(0,101,[100,100])\n",
    "# arry=np.random.randint(0,101,[100,100])\n",
    "# print(arrx)\n",
    "# print(arry)\n",
    "\n",
    "# np.where(arrx>arry,arrx,arry) # "
   ]
  },
  {
   "cell_type": "markdown",
   "metadata": {},
   "source": [
    "## unique 唯一值"
   ]
  },
  {
   "cell_type": "code",
   "execution_count": 455,
   "metadata": {},
   "outputs": [
    {
     "data": {
      "text/plain": [
       "101"
      ]
     },
     "execution_count": 455,
     "metadata": {},
     "output_type": "execute_result"
    }
   ],
   "source": [
    "np.unique(arrx).size"
   ]
  }
 ],
 "metadata": {
  "kernelspec": {
   "display_name": "Python 3",
   "language": "python",
   "name": "python3"
  },
  "language_info": {
   "codemirror_mode": {
    "name": "ipython",
    "version": 3
   },
   "file_extension": ".py",
   "mimetype": "text/x-python",
   "name": "python",
   "nbconvert_exporter": "python",
   "pygments_lexer": "ipython3",
   "version": "3.7.3"
  }
 },
 "nbformat": 4,
 "nbformat_minor": 2
}
